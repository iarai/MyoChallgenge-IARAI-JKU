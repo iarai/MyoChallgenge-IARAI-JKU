{
 "cells": [
  {
   "cell_type": "markdown",
   "metadata": {},
   "source": [
    "# Training notebook for Die reorient task\n",
    "\n",
    "We build upon the evotorch baseline which uses PGPE and ClipUp on a 2 layer RNN. Our primary approach to solving this hard exploration challenge is by using potential function based reward shaping [refer RUDDER] and task subdivision using curricula [Similar to POET]. We have a population of environments (256), each of which starts of at \"easy\" difficulty and adapts its difficulty level based on the success achieved by the agent in the recent past (20 episodes). The environment difficulty is controlled using the goal_rot value. Hence, the difficulty distribution is shaped by the agent's performance.\n",
    "\n",
    "Our recently published work(At the DRL workshop in NeurIPS 2022) shows that minimizing task-irrlevant exploration speeds up learning and improves generalization. This is because visiting task-irrelevant states forces the policy/value networks to fit irrelevant targets that affect their capacity and generalization capabilities. This was also our primary motivation for entering the challenge, to verify some of our on the challenging continuous control tasks posed here.\n",
    "\n",
    "Essentially, using a reward function based on the differences of a potential function avoids spurious optima (E.g. committing suicide) and also provides a much easier to optimize reward. (Since, it's always possible to obtain a positive reward at every state). Further, the curriculum minimizes the need for exploration and more importantly, task-irrelevant exploration making learning much faster and allowing the trained policy to generalize much better to downstream tasks in the curriculum."
   ]
  },
  {
   "cell_type": "markdown",
   "metadata": {},
   "source": [
    "# Imports\n",
    "To begin with, we import all necessary tools from EvoTorch, and also PyTorch so that we can jit save the learned policy for submission."
   ]
  },
  {
   "cell_type": "code",
   "execution_count": 2,
   "metadata": {
    "tags": []
   },
   "outputs": [],
   "source": [
    "from evotorch import Problem\n",
    "from evotorch.algorithms import PGPE\n",
    "from evotorch.neuroevolution import GymNE\n",
    "from evotorch.logging import StdOutLogger, PandasLogger\n",
    "import torch\n",
    "import sys\n",
    "import pathlib\n",
    "import os"
   ]
  },
  {
   "cell_type": "markdown",
   "metadata": {},
   "source": [
    "# Configuration\n",
    "Now we configure for the specific environment we want to solve. We've figured this configuration out for the weighted reward keys through some trial and error, but we imagine that they can be modified further. "
   ]
  },
  {
   "cell_type": "code",
   "execution_count": 3,
   "metadata": {
    "tags": []
   },
   "outputs": [],
   "source": [
    "conda_env_path = pathlib.Path(sys.executable).parent.parent\n",
    "env_name = \"myosuite:myoChallengeDieReorientP2-v10\"\n",
    "policy_path = 'agent/policies/learned_policy_reorient2_v10.pkl'\n",
    "env_config = {\n",
    "    'weighted_reward_keys' : {\n",
    "        # 'pos_dist': 3, # We discard the provided distance based rewards.\n",
    "        # 'rot_dist': 1,\n",
    "        'solved': 40,\n",
    "        # 'survival': 2, # We also implemented a survival reward, but we didn't need it.\n",
    "        'dist_diff': -100, # We implemented the reward as a difference of a potential function\n",
    "        #(In this case the sum of the pos and rot errors)\n",
    "        'act_reg': 0.05,\n",
    "    }\n",
    "}"
   ]
  },
  {
   "cell_type": "markdown",
   "metadata": {},
   "source": [
    "We configure the optimizer similar to the evotorch baseline"
   ]
  },
  {
   "cell_type": "code",
   "execution_count": 4,
   "metadata": {
    "tags": []
   },
   "outputs": [],
   "source": [
    "CLIPUP_MAX_SPEED = 0.15\n",
    "CLIPUP_ALPHA = CLIPUP_MAX_SPEED * 0.75\n",
    "RADIUS = CLIPUP_MAX_SPEED * 15\n",
    "\n",
    "STDEV_LR = 0.1\n",
    "STDEV_MAX_CHANGE = 0.2\n",
    "\n",
    "POPSIZE = 20\n",
    "POPSIZE_MAX = POPSIZE * 8\n",
    "NUM_INTERACTIONS = int(POPSIZE * 200 * 0.75)\n",
    "NUM_GENERATIONS = 2"
   ]
  },
  {
   "cell_type": "markdown",
   "metadata": {},
   "source": [
    "### MODIFICATION: Dynamic curricula\n",
    "We made a few changes to the environments to support dynamic curricula along with the potential function based reward function. However, we note that once the env reaches the maximum difficulty it is same as the original test env.\n",
    "\n",
    "Please observe python file `reorient2_v10.py` provided along this notebook for implementation details."
   ]
  },
  {
   "cell_type": "markdown",
   "metadata": {},
   "source": [
    "### Sanity check to test that environment is importing and works correctly"
   ]
  },
  {
   "cell_type": "code",
   "execution_count": 5,
   "metadata": {
    "tags": []
   },
   "outputs": [],
   "source": [
    "from gym.envs.registration import register\n",
    "\n",
    "model_path = os.path.join(\n",
    "    conda_env_path, \n",
    "    *'lib/python3.8/site-packages/myosuite/envs/myo/assets/hand/myo_hand_die.mjb'.split('/')\n",
    "    )\n",
    "register(id='myoChallengeDieReorientP2-v10',\n",
    "        entry_point='reorient2_v10:ReorientEnv2V10',\n",
    "        max_episode_steps=150,\n",
    "        kwargs={\n",
    "            'model_path': model_path,\n",
    "            'normalize_act': True,\n",
    "            'frame_skip': 5,\n",
    "            # Randomization in goals\n",
    "            'goal_pos': (-.020, .020),  # +- 2 cm\n",
    "            'goal_rot': (-0.20, 0.20),   # +-0.2 radians We start with the easiest difficulty.\n",
    "            'drop_th' : 0.05, # We also reduced the drop threshold, so bad episodes are terminated early \n",
    "            # which avoids visiting task-irrelevant states and saving on sample complexity.\n",
    "            #It's possible the optimal policy involves tossing the cube up, \n",
    "            # but we assume that is not the intended technique!\n",
    "            'trigger_num': 20, # The number of past episodes to consider when evaluating agent performance.\n",
    "            'trigger_thresh': 0.85, # The success percentage required to trigger the environment difficulty increase.\n",
    "            'trigger_decay': 0.99, # We decay the success percentage as difficult environments take more timesteps to solve.\n",
    "            'kappa': 0.8, # not used\n",
    "            # Randomization in physical properties of the die\n",
    "            'obj_size_change': 0.007, # +-7mm delta change in object size\n",
    "            'obj_friction_change': (0.2, 0.001, 0.00002) # nominal: 1.0, 0.005, 0.0001\n",
    "        }\n",
    "    )\n"
   ]
  },
  {
   "cell_type": "code",
   "execution_count": 6,
   "metadata": {
    "tags": []
   },
   "outputs": [
    {
     "name": "stdout",
     "output_type": "stream",
     "text": [
      "RS:> Registering Myo Envs\n",
      "Compiling /scratch/luis.ferro/conda-envs/myochallenge-iarai-jku/lib/python3.8/site-packages/mujoco_py/cymj.pyx because it changed.\n",
      "[1/1] Cythonizing /scratch/luis.ferro/conda-envs/myochallenge-iarai-jku/lib/python3.8/site-packages/mujoco_py/cymj.pyx\n"
     ]
    }
   ],
   "source": [
    "import gym\n",
    "env = gym.make(\"myoChallengeDieReorientP2-v10\")"
   ]
  },
  {
   "cell_type": "code",
   "execution_count": 7,
   "metadata": {
    "tags": []
   },
   "outputs": [
    {
     "name": "stdout",
     "output_type": "stream",
     "text": [
      "changing goal  (-1.5, 1.5) 0.98 15\n"
     ]
    }
   ],
   "source": [
    "env.set_difficulty(1.5, 0.98, 15)\n"
   ]
  },
  {
   "cell_type": "markdown",
   "metadata": {},
   "source": [
    "# Setup\n",
    "Now we're ready to create the problem class. You should note that we're using the `Policy` class from the included `policy.py` file. In our experiments we use the same baseline 2 layer RNN policy. The recurrent layer helps because the task involves partial observability (State of tendons, randomness in objects). The use of leaky relus helps avoid capacity loss during training to an extent. Our motivation was to test our ideas on minimizing task-irrelevant exploration and hence we did not modify the policy."
   ]
  },
  {
   "cell_type": "code",
   "execution_count": 8,
   "metadata": {
    "tags": []
   },
   "outputs": [
    {
     "name": "stderr",
     "output_type": "stream",
     "text": [
      "/scratch/luis.ferro/conda-envs/myochallenge-iarai-jku/lib/python3.8/site-packages/numpy/core/fromnumeric.py:86: VisibleDeprecationWarning: Creating an ndarray from ragged nested sequences (which is a list-or-tuple of lists-or-tuples-or ndarrays with different lengths or shapes) is deprecated. If you meant to do this, you must specify 'dtype=object' when creating the ndarray.\n",
      "  return ufunc.reduce(obj, axis, dtype, out, **passkwargs)\n",
      "2023-02-24 11:29:02,913\tINFO worker.py:1553 -- Started a local Ray instance.\n"
     ]
    },
    {
     "name": "stdout",
     "output_type": "stream",
     "text": [
      "Solution length is 21543\n"
     ]
    }
   ],
   "source": [
    "from policy import Policy # Needs to be explicitly defined here.\n",
    "\n",
    "problem = GymNE(\n",
    "    env_name=env_name,\n",
    "    env_config = env_config,\n",
    "    network=Policy,\n",
    "    network_args = {\n",
    "        'hidden_dim': 64, # We use the same architecture used by the evotorch baseline.\n",
    "    },\n",
    "    observation_normalization=True,\n",
    "    num_actors='max',\n",
    ")\n",
    "print('Solution length is', problem.solution_length)"
   ]
  },
  {
   "cell_type": "markdown",
   "metadata": {},
   "source": [
    "### Environment Registration Routine as a hook \n",
    "Here we pass the gym registration function to all environments in the population via a remote_hook"
   ]
  },
  {
   "cell_type": "code",
   "execution_count": 8,
   "metadata": {},
   "outputs": [],
   "source": [
    "def register_env(problem):\n",
    "    from gym.envs.registration import register\n",
    "    \n",
    "    print(\"Registering env\")\n",
    "    register(id='myoChallengeDieReorientP2-v10',\n",
    "        entry_point='reorient2_v10:ReorientEnv2V10',\n",
    "        max_episode_steps=150,\n",
    "        kwargs={\n",
    "            'model_path': model_path,\n",
    "            'normalize_act': True,\n",
    "            'frame_skip': 5,\n",
    "            # Randomization in goals\n",
    "            'goal_pos': (-.020, .020),  # +- 2 cm\n",
    "            'goal_rot': (-0.20, 0.20),   # +-180 degrees\n",
    "            'drop_th' : 0.05,\n",
    "            'trigger_num': 20,\n",
    "            'trigger_thresh': 0.85,\n",
    "            'trigger_decay': 0.99,\n",
    "            'kappa': 0.8, # not used\n",
    "            # Randomization in physical properties of the die\n",
    "            'obj_size_change': 0.007, # +-7mm delta change in object size\n",
    "            'obj_friction_change': (0.2, 0.001, 0.00002) # nominal: 1.0, 0.005, 0.0001\n",
    "        }\n",
    "    )\n",
    "\n",
    "problem.remote_hook.append(register_env)"
   ]
  },
  {
   "cell_type": "markdown",
   "metadata": {},
   "source": [
    "With `problem` instantiated, we can create the searcher:"
   ]
  },
  {
   "cell_type": "code",
   "execution_count": 9,
   "metadata": {},
   "outputs": [],
   "source": [
    "searcher = PGPE(\n",
    "    problem,\n",
    "    center_learning_rate=CLIPUP_ALPHA,\n",
    "    optimizer=\"clipup\",\n",
    "    optimizer_config={\"max_speed\": CLIPUP_MAX_SPEED},\n",
    "    radius_init=RADIUS,\n",
    "    stdev_learning_rate=STDEV_LR,\n",
    "    stdev_max_change=STDEV_MAX_CHANGE,\n",
    "    popsize=POPSIZE,\n",
    "    popsize_max=POPSIZE_MAX,\n",
    "    num_interactions=NUM_INTERACTIONS,\n",
    "    distributed = True,\n",
    ")"
   ]
  },
  {
   "cell_type": "markdown",
   "metadata": {},
   "source": [
    "We add an additional `after_step_hook` which will save the policy after every generation. This means that you can asynchonously evaluate and submit agents, even as the evolutionary run continues!"
   ]
  },
  {
   "cell_type": "code",
   "execution_count": 10,
   "metadata": {},
   "outputs": [],
   "source": [
    "import torch\n",
    "\n",
    "def save_policy():\n",
    "    global problem, searcher, policy_path\n",
    "    folder = pathlib.Path(policy_path).parent\n",
    "    os.makedirs(folder, exist_ok=True)\n",
    "    policy = problem.to_policy(searcher.status['center'])\n",
    "    scripted_module = torch.jit.script(policy)\n",
    "    torch.jit.save(scripted_module, policy_path)\n",
    "\n",
    "searcher.after_step_hook.append(save_policy)"
   ]
  },
  {
   "cell_type": "markdown",
   "metadata": {},
   "source": [
    "For sanity, we're adding a StdOutLogger instance and a PandasLogger instance so that we can track what's going on:"
   ]
  },
  {
   "cell_type": "code",
   "execution_count": 11,
   "metadata": {},
   "outputs": [],
   "source": [
    "_ = StdOutLogger(searcher)\n",
    "pandas_logger = PandasLogger(searcher)"
   ]
  },
  {
   "cell_type": "markdown",
   "metadata": {},
   "source": [
    "# Train\n",
    "And that's all there is to it! We're ready to train. As we go, we'll be creating `learned_policy_boading.pkl` in the local directory. Check out `README.md` to see how you can submit these learned agents. "
   ]
  },
  {
   "cell_type": "code",
   "execution_count": 12,
   "metadata": {
    "scrolled": true
   },
   "outputs": [
    {
     "name": "stdout",
     "output_type": "stream",
     "text": [
      "\u001b[2m\u001b[36m(EvaluationActor pid=22220)\u001b[0m Registering env\n",
      "\u001b[2m\u001b[36m(EvaluationActor pid=22223)\u001b[0m Registering env\n",
      "\u001b[2m\u001b[36m(EvaluationActor pid=22221)\u001b[0m Registering env\n",
      "\u001b[2m\u001b[36m(EvaluationActor pid=22220)\u001b[0m RS:> Registering Myo Envs\n",
      "\u001b[2m\u001b[36m(EvaluationActor pid=22223)\u001b[0m RS:> Registering Myo Envs\n",
      "\u001b[2m\u001b[36m(EvaluationActor pid=22221)\u001b[0m RS:> Registering Myo Envs\n",
      "\u001b[2m\u001b[36m(EvaluationActor pid=22222)\u001b[0m Registering env\n",
      "\u001b[2m\u001b[36m(EvaluationActor pid=22222)\u001b[0m RS:> Registering Myo Envs\n"
     ]
    },
    {
     "name": "stderr",
     "output_type": "stream",
     "text": [
      "\u001b[2m\u001b[36m(EvaluationActor pid=22222)\u001b[0m /scratch/luis.ferro/myo/conda-env/lib/python3.8/site-packages/numpy/core/fromnumeric.py:86: VisibleDeprecationWarning: Creating an ndarray from ragged nested sequences (which is a list-or-tuple of lists-or-tuples-or ndarrays with different lengths or shapes) is deprecated. If you meant to do this, you must specify 'dtype=object' when creating the ndarray.\n",
      "\u001b[2m\u001b[36m(EvaluationActor pid=22222)\u001b[0m   return ufunc.reduce(obj, axis, dtype, out, **passkwargs)\n",
      "\u001b[2m\u001b[36m(EvaluationActor pid=22220)\u001b[0m /scratch/luis.ferro/myo/conda-env/lib/python3.8/site-packages/numpy/core/fromnumeric.py:86: VisibleDeprecationWarning: Creating an ndarray from ragged nested sequences (which is a list-or-tuple of lists-or-tuples-or ndarrays with different lengths or shapes) is deprecated. If you meant to do this, you must specify 'dtype=object' when creating the ndarray.\n",
      "\u001b[2m\u001b[36m(EvaluationActor pid=22220)\u001b[0m   return ufunc.reduce(obj, axis, dtype, out, **passkwargs)\n",
      "\u001b[2m\u001b[36m(EvaluationActor pid=22221)\u001b[0m /scratch/luis.ferro/myo/conda-env/lib/python3.8/site-packages/numpy/core/fromnumeric.py:86: VisibleDeprecationWarning: Creating an ndarray from ragged nested sequences (which is a list-or-tuple of lists-or-tuples-or ndarrays with different lengths or shapes) is deprecated. If you meant to do this, you must specify 'dtype=object' when creating the ndarray.\n",
      "\u001b[2m\u001b[36m(EvaluationActor pid=22221)\u001b[0m   return ufunc.reduce(obj, axis, dtype, out, **passkwargs)\n",
      "\u001b[2m\u001b[36m(EvaluationActor pid=22223)\u001b[0m /scratch/luis.ferro/myo/conda-env/lib/python3.8/site-packages/numpy/core/fromnumeric.py:86: VisibleDeprecationWarning: Creating an ndarray from ragged nested sequences (which is a list-or-tuple of lists-or-tuples-or ndarrays with different lengths or shapes) is deprecated. If you meant to do this, you must specify 'dtype=object' when creating the ndarray.\n",
      "\u001b[2m\u001b[36m(EvaluationActor pid=22223)\u001b[0m   return ufunc.reduce(obj, axis, dtype, out, **passkwargs)\n"
     ]
    },
    {
     "name": "stdout",
     "output_type": "stream",
     "text": [
      "     iter : 1\n",
      "mean_eval : 202.79705047607422\n",
      "\n",
      "     iter : 2\n",
      "mean_eval : 215.78834533691406\n",
      "\n"
     ]
    }
   ],
   "source": [
    "searcher.run(NUM_GENERATIONS)"
   ]
  },
  {
   "cell_type": "markdown",
   "metadata": {},
   "source": [
    "Finally, it's nice to see the mean evaluation of the training as time passes. You can interrupt the above cell at any time, generate the plot below, and restart the above cell to continue training!"
   ]
  },
  {
   "cell_type": "code",
   "execution_count": 21,
   "metadata": {},
   "outputs": [
    {
     "data": {
      "text/plain": [
       "<AxesSubplot: xlabel='iter'>"
      ]
     },
     "execution_count": 21,
     "metadata": {},
     "output_type": "execute_result"
    },
    {
     "data": {
      "image/png": "[encoded data removed]",
      "text/plain": [
       "<Figure size 640x480 with 1 Axes>"
      ]
     },
     "metadata": {},
     "output_type": "display_data"
    }
   ],
   "source": [
    "pandas_logger.to_dataframe().mean_eval.plot()"
   ]
  }
 ],
 "metadata": {
  "kernelspec": {
   "display_name": "Python 3 (ipykernel)",
   "language": "python",
   "name": "python3"
  },
  "language_info": {
   "codemirror_mode": {
    "name": "ipython",
    "version": 3
   },
   "file_extension": ".py",
   "mimetype": "text/x-python",
   "name": "python",
   "nbconvert_exporter": "python",
   "pygments_lexer": "ipython3",
   "version": "3.8.16"
  }
 },
 "nbformat": 4,
 "nbformat_minor": 4
}
